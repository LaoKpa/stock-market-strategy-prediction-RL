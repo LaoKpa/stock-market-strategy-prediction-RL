{
 "cells": [
  {
   "cell_type": "code",
   "execution_count": 1,
   "metadata": {
    "colab": {},
    "colab_type": "code",
    "id": "C603Q1Nm2ooN"
   },
   "outputs": [],
   "source": [
    "import math, random\n",
    "import gym\n",
    "import numpy as np\n",
    "import torch\n",
    "import torch.nn as nn\n",
    "import torch.optim as optim\n",
    "import torch.autograd as autograd\n",
    "import torch.nn.functional as F\n",
    "from torch.distributions import Categorical"
   ]
  },
  {
   "cell_type": "code",
   "execution_count": 2,
   "metadata": {
    "colab": {
     "base_uri": "https://localhost:8080/",
     "height": 34
    },
    "colab_type": "code",
    "id": "izScLuPg2ooS",
    "outputId": "08c4001d-ddae-44aa-fb22-89c0744e9522"
   },
   "outputs": [
    {
     "data": {
      "text/plain": [
       "<torch._C.Generator at 0x1f512fc3f30>"
      ]
     },
     "execution_count": 2,
     "metadata": {},
     "output_type": "execute_result"
    }
   ],
   "source": [
    "torch.manual_seed(51)"
   ]
  },
  {
   "cell_type": "code",
   "execution_count": 4,
   "metadata": {
    "colab": {
     "base_uri": "https://localhost:8080/",
     "height": 311
    },
    "colab_type": "code",
    "id": "_x0jLEH72ooX",
    "outputId": "ffcc9f71-8f7a-4caf-c863-1b6be7b29893"
   },
   "outputs": [
    {
     "name": "stdout",
     "output_type": "stream",
     "text": [
      "Requirement already satisfied: quandl in c:\\users\\shrey\\anaconda3\\lib\\site-packages (3.5.0)\n",
      "Requirement already satisfied: python-dateutil in c:\\users\\shrey\\anaconda3\\lib\\site-packages (from quandl) (2.8.0)\n",
      "Requirement already satisfied: six in c:\\users\\shrey\\anaconda3\\lib\\site-packages (from quandl) (1.12.0)\n",
      "Requirement already satisfied: requests>=2.7.0 in c:\\users\\shrey\\anaconda3\\lib\\site-packages (from quandl) (2.22.0)\n",
      "Requirement already satisfied: pandas>=0.14 in c:\\users\\shrey\\anaconda3\\lib\\site-packages (from quandl) (0.25.1)\n",
      "Requirement already satisfied: inflection>=0.3.1 in c:\\users\\shrey\\anaconda3\\lib\\site-packages (from quandl) (0.4.0)\n",
      "Requirement already satisfied: numpy>=1.8 in c:\\users\\shrey\\anaconda3\\lib\\site-packages (from quandl) (1.16.5)\n",
      "Requirement already satisfied: more-itertools in c:\\users\\shrey\\anaconda3\\lib\\site-packages (from quandl) (7.2.0)\n",
      "Requirement already satisfied: idna<2.9,>=2.5 in c:\\users\\shrey\\anaconda3\\lib\\site-packages (from requests>=2.7.0->quandl) (2.8)\n",
      "Requirement already satisfied: certifi>=2017.4.17 in c:\\users\\shrey\\anaconda3\\lib\\site-packages (from requests>=2.7.0->quandl) (2019.9.11)\n",
      "Requirement already satisfied: urllib3!=1.25.0,!=1.25.1,<1.26,>=1.21.1 in c:\\users\\shrey\\anaconda3\\lib\\site-packages (from requests>=2.7.0->quandl) (1.24.2)\n",
      "Requirement already satisfied: chardet<3.1.0,>=3.0.2 in c:\\users\\shrey\\anaconda3\\lib\\site-packages (from requests>=2.7.0->quandl) (3.0.4)\n",
      "Requirement already satisfied: pytz>=2017.2 in c:\\users\\shrey\\anaconda3\\lib\\site-packages (from pandas>=0.14->quandl) (2019.3)\n"
     ]
    }
   ],
   "source": [
    "%matplotlib inline\n",
    "import matplotlib.pyplot as plt\n",
    "!pip install quandl"
   ]
  },
  {
   "cell_type": "markdown",
   "metadata": {
    "colab_type": "text",
    "id": "nQDi9z7N2oob"
   },
   "source": [
    "# Retrieve data from Quandl\n",
    "\n",
    "Don't bother with this step if the data's already saved from the Pickle below."
   ]
  },
  {
   "cell_type": "code",
   "execution_count": 5,
   "metadata": {
    "colab": {},
    "colab_type": "code",
    "id": "nzMLwZ8x2oob"
   },
   "outputs": [],
   "source": [
    "import quandl\n",
    "quandl.ApiConfig.api_key = \"SoMTib9aWFUxi6xPbeb4\"\n",
    "apl_stock=quandl.get('WIKI/AAPL', start_date=\"2014-01-01\", end_date=\"2018-08-20\", )\n",
    "msf_stock=quandl.get('WIKI/MSFT', start_date=\"2014-01-01\", end_date=\"2018-08-20\")\n",
    "apl_open = apl_stock[\"Open\"].values\n",
    "apl_close = apl_stock[\"Close\"].values\n",
    "msf_open = msf_stock[\"Open\"].values\n",
    "msf_close = msf_stock[\"Close\"].values"
   ]
  },
  {
   "cell_type": "code",
   "execution_count": 6,
   "metadata": {
    "colab": {
     "base_uri": "https://localhost:8080/",
     "height": 232
    },
    "colab_type": "code",
    "id": "qBVlO4Ui2oof",
    "outputId": "c1de8405-a730-4d0a-f073-94f5b805e5db"
   },
   "outputs": [
    {
     "data": {
      "text/html": [
       "<div>\n",
       "<style scoped>\n",
       "    .dataframe tbody tr th:only-of-type {\n",
       "        vertical-align: middle;\n",
       "    }\n",
       "\n",
       "    .dataframe tbody tr th {\n",
       "        vertical-align: top;\n",
       "    }\n",
       "\n",
       "    .dataframe thead th {\n",
       "        text-align: right;\n",
       "    }\n",
       "</style>\n",
       "<table border=\"1\" class=\"dataframe\">\n",
       "  <thead>\n",
       "    <tr style=\"text-align: right;\">\n",
       "      <th></th>\n",
       "      <th>Open</th>\n",
       "      <th>High</th>\n",
       "      <th>Low</th>\n",
       "      <th>Close</th>\n",
       "      <th>Volume</th>\n",
       "      <th>Ex-Dividend</th>\n",
       "      <th>Split Ratio</th>\n",
       "      <th>Adj. Open</th>\n",
       "      <th>Adj. High</th>\n",
       "      <th>Adj. Low</th>\n",
       "      <th>Adj. Close</th>\n",
       "      <th>Adj. Volume</th>\n",
       "    </tr>\n",
       "    <tr>\n",
       "      <th>Date</th>\n",
       "      <th></th>\n",
       "      <th></th>\n",
       "      <th></th>\n",
       "      <th></th>\n",
       "      <th></th>\n",
       "      <th></th>\n",
       "      <th></th>\n",
       "      <th></th>\n",
       "      <th></th>\n",
       "      <th></th>\n",
       "      <th></th>\n",
       "      <th></th>\n",
       "    </tr>\n",
       "  </thead>\n",
       "  <tbody>\n",
       "    <tr>\n",
       "      <td>2014-01-02</td>\n",
       "      <td>37.350</td>\n",
       "      <td>37.40</td>\n",
       "      <td>37.10</td>\n",
       "      <td>37.16</td>\n",
       "      <td>30632200.0</td>\n",
       "      <td>0.0</td>\n",
       "      <td>1.0</td>\n",
       "      <td>33.704254</td>\n",
       "      <td>33.749373</td>\n",
       "      <td>33.478656</td>\n",
       "      <td>33.532800</td>\n",
       "      <td>30632200.0</td>\n",
       "    </tr>\n",
       "    <tr>\n",
       "      <td>2014-01-03</td>\n",
       "      <td>37.200</td>\n",
       "      <td>37.22</td>\n",
       "      <td>36.60</td>\n",
       "      <td>36.91</td>\n",
       "      <td>31134800.0</td>\n",
       "      <td>0.0</td>\n",
       "      <td>1.0</td>\n",
       "      <td>33.568895</td>\n",
       "      <td>33.586943</td>\n",
       "      <td>33.027461</td>\n",
       "      <td>33.307202</td>\n",
       "      <td>31134800.0</td>\n",
       "    </tr>\n",
       "    <tr>\n",
       "      <td>2014-01-06</td>\n",
       "      <td>36.850</td>\n",
       "      <td>36.89</td>\n",
       "      <td>36.11</td>\n",
       "      <td>36.13</td>\n",
       "      <td>43603700.0</td>\n",
       "      <td>0.0</td>\n",
       "      <td>1.0</td>\n",
       "      <td>33.253059</td>\n",
       "      <td>33.289154</td>\n",
       "      <td>32.585290</td>\n",
       "      <td>32.603338</td>\n",
       "      <td>43603700.0</td>\n",
       "    </tr>\n",
       "    <tr>\n",
       "      <td>2014-01-07</td>\n",
       "      <td>36.325</td>\n",
       "      <td>36.49</td>\n",
       "      <td>36.21</td>\n",
       "      <td>36.41</td>\n",
       "      <td>35802800.0</td>\n",
       "      <td>0.0</td>\n",
       "      <td>1.0</td>\n",
       "      <td>32.779304</td>\n",
       "      <td>32.928198</td>\n",
       "      <td>32.675529</td>\n",
       "      <td>32.856007</td>\n",
       "      <td>35802800.0</td>\n",
       "    </tr>\n",
       "    <tr>\n",
       "      <td>2014-01-08</td>\n",
       "      <td>36.000</td>\n",
       "      <td>36.14</td>\n",
       "      <td>35.58</td>\n",
       "      <td>35.76</td>\n",
       "      <td>59971700.0</td>\n",
       "      <td>0.0</td>\n",
       "      <td>1.0</td>\n",
       "      <td>32.486028</td>\n",
       "      <td>32.612362</td>\n",
       "      <td>32.107024</td>\n",
       "      <td>32.269454</td>\n",
       "      <td>59971700.0</td>\n",
       "    </tr>\n",
       "  </tbody>\n",
       "</table>\n",
       "</div>"
      ],
      "text/plain": [
       "              Open   High    Low  Close      Volume  Ex-Dividend  Split Ratio  \\\n",
       "Date                                                                            \n",
       "2014-01-02  37.350  37.40  37.10  37.16  30632200.0          0.0          1.0   \n",
       "2014-01-03  37.200  37.22  36.60  36.91  31134800.0          0.0          1.0   \n",
       "2014-01-06  36.850  36.89  36.11  36.13  43603700.0          0.0          1.0   \n",
       "2014-01-07  36.325  36.49  36.21  36.41  35802800.0          0.0          1.0   \n",
       "2014-01-08  36.000  36.14  35.58  35.76  59971700.0          0.0          1.0   \n",
       "\n",
       "            Adj. Open  Adj. High   Adj. Low  Adj. Close  Adj. Volume  \n",
       "Date                                                                  \n",
       "2014-01-02  33.704254  33.749373  33.478656   33.532800   30632200.0  \n",
       "2014-01-03  33.568895  33.586943  33.027461   33.307202   31134800.0  \n",
       "2014-01-06  33.253059  33.289154  32.585290   32.603338   43603700.0  \n",
       "2014-01-07  32.779304  32.928198  32.675529   32.856007   35802800.0  \n",
       "2014-01-08  32.486028  32.612362  32.107024   32.269454   59971700.0  "
      ]
     },
     "execution_count": 6,
     "metadata": {},
     "output_type": "execute_result"
    }
   ],
   "source": [
    "msf_stock.head()"
   ]
  },
  {
   "cell_type": "markdown",
   "metadata": {
    "colab_type": "text",
    "id": "byFuG8FQ2oon"
   },
   "source": [
    "## Examine the data"
   ]
  },
  {
   "cell_type": "code",
   "execution_count": 7,
   "metadata": {
    "colab": {
     "base_uri": "https://localhost:8080/",
     "height": 286
    },
    "colab_type": "code",
    "id": "FZOSdGr92ooo",
    "outputId": "abcc4043-ccc9-42b3-e170-aa13ae84a390"
   },
   "outputs": [
    {
     "data": {
      "text/plain": [
       "[<matplotlib.lines.Line2D at 0x1f5166c5108>]"
      ]
     },
     "execution_count": 7,
     "metadata": {},
     "output_type": "execute_result"
    },
    {
     "data": {
      "image/png": "[encoded data removed]",
      "text/plain": [
       "<Figure size 432x288 with 1 Axes>"
      ]
     },
     "metadata": {
      "needs_background": "light"
     },
     "output_type": "display_data"
    }
   ],
   "source": [
    "plt.plot(range(0, len(msf_open)), msf_open)"
   ]
  },
  {
   "cell_type": "code",
   "execution_count": 8,
   "metadata": {
    "colab": {
     "base_uri": "https://localhost:8080/",
     "height": 282
    },
    "colab_type": "code",
    "id": "6YInLHyB2oor",
    "outputId": "8f1e17ed-0f0b-481b-dc9c-1e429efc07ad"
   },
   "outputs": [
    {
     "data": {
      "text/plain": [
       "[<matplotlib.lines.Line2D at 0x1f516781a48>]"
      ]
     },
     "execution_count": 8,
     "metadata": {},
     "output_type": "execute_result"
    },
    {
     "data": {
      "image/png": "[encoded data removed]",
      "text/plain": [
       "<Figure size 432x288 with 1 Axes>"
      ]
     },
     "metadata": {
      "needs_background": "light"
     },
     "output_type": "display_data"
    }
   ],
   "source": [
    "plt.plot(range(0, len(apl_open)), apl_open)"
   ]
  },
  {
   "cell_type": "markdown",
   "metadata": {
    "colab_type": "text",
    "id": "Xig5GWqv2oov"
   },
   "source": [
    "## Oof! What's happened?"
   ]
  },
  {
   "cell_type": "markdown",
   "metadata": {
    "colab_type": "text",
    "id": "w6xxWFP92oo1"
   },
   "source": [
    "Turns out that on 9 June 2014, AAPL stock was split in the ratio of 1:7. So, I'll divide everything before element 108 in the stock array by 7 to correct for this."
   ]
  },
  {
   "cell_type": "code",
   "execution_count": 9,
   "metadata": {
    "colab": {},
    "colab_type": "code",
    "id": "PmbbHU9E2oo3"
   },
   "outputs": [],
   "source": [
    "apl_open[:108] /= 7"
   ]
  },
  {
   "cell_type": "code",
   "execution_count": 10,
   "metadata": {
    "colab": {},
    "colab_type": "code",
    "id": "tq8Q-tTf2oo6"
   },
   "outputs": [],
   "source": [
    "apl_close[:108] /= 7"
   ]
  },
  {
   "cell_type": "code",
   "execution_count": 11,
   "metadata": {
    "colab": {
     "base_uri": "https://localhost:8080/",
     "height": 282
    },
    "colab_type": "code",
    "id": "LFH42xOk2oo8",
    "outputId": "131aeb0e-d785-4024-84c5-30d8fa6f462c"
   },
   "outputs": [
    {
     "data": {
      "text/plain": [
       "[<matplotlib.lines.Line2D at 0x1f5167f1708>]"
      ]
     },
     "execution_count": 11,
     "metadata": {},
     "output_type": "execute_result"
    },
    {
     "data": {
      "image/png": "[encoded data removed]",
      "text/plain": [
       "<Figure size 432x288 with 1 Axes>"
      ]
     },
     "metadata": {
      "needs_background": "light"
     },
     "output_type": "display_data"
    }
   ],
   "source": [
    "plt.plot(range(0, len(apl_open)), apl_open)"
   ]
  },
  {
   "cell_type": "markdown",
   "metadata": {
    "colab_type": "text",
    "id": "H16Wdqpz2opA"
   },
   "source": [
    "## Looks better, now remove the general upwards trend.\n",
    "\n",
    "Now I'm going to de-trend the data. Otherwise MSFT and AAPL are on completely different scales and we could hardly expect the AI to learn how to trade apples and oranges together. Additionally, we want the AI to learn the fundamentals of the stock signal - buy if it's going to rise. If we didn't remove the trend, maybe it'd only learn to buy at the start and hold til the end since a general upwards trend happens.\n",
    "\n",
    "SciPy's signal processing module has a function that fits a linear least-squares model to the data and subtracts it for us."
   ]
  },
  {
   "cell_type": "code",
   "execution_count": 12,
   "metadata": {
    "colab": {},
    "colab_type": "code",
    "id": "q9mrbwY92opB"
   },
   "outputs": [],
   "source": [
    "from scipy import signal"
   ]
  },
  {
   "cell_type": "code",
   "execution_count": 13,
   "metadata": {
    "colab": {},
    "colab_type": "code",
    "id": "E7c2MVe62opG"
   },
   "outputs": [],
   "source": [
    "msf_open = signal.detrend(msf_open)\n",
    "msf_close = signal.detrend(msf_close)"
   ]
  },
  {
   "cell_type": "code",
   "execution_count": 14,
   "metadata": {
    "colab": {
     "base_uri": "https://localhost:8080/",
     "height": 282
    },
    "colab_type": "code",
    "id": "Vgfo3WW52opI",
    "outputId": "97f26f30-f3db-4e78-a055-599da00100b6"
   },
   "outputs": [
    {
     "data": {
      "text/plain": [
       "[<matplotlib.lines.Line2D at 0x1f5174b2ec8>]"
      ]
     },
     "execution_count": 14,
     "metadata": {},
     "output_type": "execute_result"
    },
    {
     "data": {
      "image/png": "[encoded data removed]",
      "text/plain": [
       "<Figure size 432x288 with 1 Axes>"
      ]
     },
     "metadata": {
      "needs_background": "light"
     },
     "output_type": "display_data"
    }
   ],
   "source": [
    "plt.plot(range(0,len(msf_open)), msf_open)"
   ]
  },
  {
   "cell_type": "code",
   "execution_count": 15,
   "metadata": {
    "colab": {
     "base_uri": "https://localhost:8080/",
     "height": 282
    },
    "colab_type": "code",
    "id": "Xh31Ui7x2opO",
    "outputId": "c8d0ac01-a7a1-4095-c5b6-d170f0e5697c"
   },
   "outputs": [
    {
     "data": {
      "text/plain": [
       "[<matplotlib.lines.Line2D at 0x1f51751d748>]"
      ]
     },
     "execution_count": 15,
     "metadata": {},
     "output_type": "execute_result"
    },
    {
     "data": {
      "image/png": "[encoded data removed]",
      "text/plain": [
       "<Figure size 432x288 with 1 Axes>"
      ]
     },
     "metadata": {
      "needs_background": "light"
     },
     "output_type": "display_data"
    }
   ],
   "source": [
    "apl_open = signal.detrend(apl_open)\n",
    "apl_close = signal.detrend(apl_close)\n",
    "plt.plot(range(0, len(apl_open)), apl_open)"
   ]
  },
  {
   "cell_type": "markdown",
   "metadata": {
    "colab_type": "text",
    "id": "PDrdun3_2opR"
   },
   "source": [
    "## Negative values?\n",
    "\n",
    "It doesn't make sense to buy a share at a negative value. But since the model will learn to maximize reward, we can just shift it up by a constant number so it's always positive."
   ]
  },
  {
   "cell_type": "code",
   "execution_count": 16,
   "metadata": {
    "colab": {
     "base_uri": "https://localhost:8080/",
     "height": 86
    },
    "colab_type": "code",
    "id": "JqDACodp2opS",
    "outputId": "33d11705-0ff5-4bfc-865b-ebc73527bbaf"
   },
   "outputs": [
    {
     "name": "stdout",
     "output_type": "stream",
     "text": [
      "-34.32168425572118\n",
      "-34.447411978136344\n",
      "-11.365775305682853\n",
      "-11.834602851532004\n"
     ]
    }
   ],
   "source": [
    "print(apl_open.min())\n",
    "print(apl_close.min())\n",
    "print(msf_open.min())\n",
    "print(msf_close.min())"
   ]
  },
  {
   "cell_type": "markdown",
   "metadata": {
    "colab_type": "text",
    "id": "sVT70_MN2opW"
   },
   "source": [
    "Choose 35"
   ]
  },
  {
   "cell_type": "code",
   "execution_count": 17,
   "metadata": {
    "colab": {},
    "colab_type": "code",
    "id": "k3T9vYxr2opX"
   },
   "outputs": [],
   "source": [
    "apl_open += 35.\n",
    "apl_close += 35.\n",
    "msf_open += 35.\n",
    "msf_close += 35."
   ]
  },
  {
   "cell_type": "markdown",
   "metadata": {
    "colab_type": "text",
    "id": "RGxdwfgh2opa"
   },
   "source": [
    "## Save the transformed data"
   ]
  },
  {
   "cell_type": "code",
   "execution_count": 18,
   "metadata": {
    "colab": {},
    "colab_type": "code",
    "id": "dCxlUcQh2opa"
   },
   "outputs": [],
   "source": [
    "import pickle\n",
    "with open(\"aplmsfopenclose.pkl\", \"wb+\") as f:\n",
    "    pickle.dump({\"ao\":apl_open, \"ac\": apl_close, \"mo\": msf_open, \"mc\": msf_close}, f)"
   ]
  },
  {
   "cell_type": "markdown",
   "metadata": {
    "colab_type": "text",
    "id": "rTTqFH_J2opd"
   },
   "source": [
    "## If the data's already saved, skip the above and load it here instead"
   ]
  },
  {
   "cell_type": "code",
   "execution_count": 19,
   "metadata": {
    "colab": {
     "base_uri": "https://localhost:8080/",
     "height": 231
    },
    "colab_type": "code",
    "id": "HPXhtvjE2opd",
    "outputId": "49e765b1-8986-4bf1-cf55-c734e69547d3"
   },
   "outputs": [],
   "source": [
    "import pickle\n",
    "with open(\"aplmsfopenclose.pkl\", \"rb\") as f:\n",
    "    d = pickle.load(f)\n",
    "apl_open = d[\"ao\"]\n",
    "apl_close = d[\"ac\"]\n",
    "msf_open = d[\"mo\"]\n",
    "msf_close = d[\"mc\"]"
   ]
  },
  {
   "cell_type": "code",
   "execution_count": 20,
   "metadata": {
    "colab": {
     "base_uri": "https://localhost:8080/",
     "height": 282
    },
    "colab_type": "code",
    "id": "EFBUxMOh2opg",
    "outputId": "7d2439b6-dbb1-4501-cbf3-ace8e845efc9"
   },
   "outputs": [
    {
     "data": {
      "text/plain": [
       "[<matplotlib.lines.Line2D at 0x1f517587a88>]"
      ]
     },
     "execution_count": 20,
     "metadata": {},
     "output_type": "execute_result"
    },
    {
     "data": {
      "image/png": "[encoded data removed]",
      "text/plain": [
       "<Figure size 432x288 with 1 Axes>"
      ]
     },
     "metadata": {
      "needs_background": "light"
     },
     "output_type": "display_data"
    }
   ],
   "source": [
    "plt.plot(range(0,len(apl_open)), apl_open)"
   ]
  },
  {
   "cell_type": "markdown",
   "metadata": {
    "colab_type": "text",
    "id": "z1Z2BU792opi"
   },
   "source": [
    "# Build the environment\n",
    "\n",
    "* For starting cash, we can't use a dollar value because of the transformed data. After shifting earlier, we know the mean of each opening price should be 35, so I'm starting the agent off with enough cash to buy ~2.5 shares.\n",
    "* This starting cash is the mean starting cash; it can be randomized by altering the std parameter\n",
    "* action space = 0 buy apple, 1 sell apple, 2 do nothing, 3 buy msft, 4 sell msft, quantity. eg. [0, 100]\n",
    "* obs space: apl shares, msft shares, cash in bank [2], today apl open [3], today msf open [4], portfolio value [5], 5 day window [6apl, 7msf] = 8\n",
    "* If bot gets to the end with more than one of each share, we give it a bonus for having a diversified portfolio!\n",
    "* Buys and sells attract a 10% brokerage fee"
   ]
  },
  {
   "cell_type": "code",
   "execution_count": 21,
   "metadata": {
    "colab": {},
    "colab_type": "code",
    "id": "R3bhd-Ei2opj"
   },
   "outputs": [],
   "source": [
    "class TradingEnvironment():\n",
    "\n",
    "    def __init__(self, starting_cash_mean=200., max_stride=5, series_length=208, starting_point=1, randomize_cash_std=0, \\\n",
    "                 starting_shares_mean=0., randomize_shares_std=0., inaction_penalty=0.):\n",
    "        self.starting_shares_mean = starting_shares_mean\n",
    "        self.randomize_shares_std = randomize_shares_std\n",
    "        self.starting_cash_mean = starting_cash_mean\n",
    "        self.randomize_cash_std = randomize_cash_std\n",
    "        \n",
    "        self.state = torch.FloatTensor(torch.zeros(8)).cuda()\n",
    "        \n",
    "        self.starting_cash = max(int(np.random.normal(self.starting_cash_mean, self.randomize_cash_std)), 0.)\n",
    "        \n",
    "        self.series_length = series_length\n",
    "        self.starting_point = starting_point\n",
    "        self.cur_timestep = self.starting_point\n",
    "        \n",
    "        self.state[0] = max(int(np.random.normal(self.starting_shares_mean, self.randomize_shares_std)), 0.)\n",
    "        self.state[1] = max(int(np.random.normal(self.starting_shares_mean, self.randomize_shares_std)), 0.)\n",
    "        self.starting_portfolio_value = self.portfolio_value()\n",
    "        self.state[2] = self.starting_cash\n",
    "        self.state[3] = apl_open[self.cur_timestep]\n",
    "        self.state[4] = msf_open[self.cur_timestep]\n",
    "        self.state[5] = self.starting_portfolio_value\n",
    "        self.state[6] = self.five_day_window()[0]\n",
    "        self.state[7] = self.five_day_window()[1]\n",
    "        \n",
    "        self.max_stride = max_stride\n",
    "        self.stride = self.max_stride # no longer varying it\n",
    "        \n",
    "        self.done = False\n",
    "        self.diversification_bonus = 1.\n",
    "        self.inaction_penalty = inaction_penalty\n",
    "    \n",
    "    def portfolio_value(self):\n",
    "        return (self.state[0] * apl_close[self.cur_timestep]) + (self.state[1] * msf_close[self.cur_timestep]) + self.state[2]\n",
    "    \n",
    "    def next_opening_price(self):\n",
    "        step = self.cur_timestep + self.stride\n",
    "        return [apl_open[step], msf_open[step]]\n",
    "    \n",
    "    def five_day_window(self):\n",
    "        step = self.cur_timestep\n",
    "        if step < 5:\n",
    "            return [apl_open[0], msf_open[0]]\n",
    "        apl5 = apl_open[step-5:step].mean()\n",
    "        msf5 = msf_open[step-5:step].mean()\n",
    "        return [apl5, msf5]\n",
    "\n",
    "    def n_day_window(self,n):\n",
    "        step = self.cur_timestep\n",
    "        if step < n:\n",
    "            return [apl_open[0], msf_open[0]]\n",
    "        apln = apl_open[step-n:step].mean()\n",
    "        msfn = msf_open[step-n:step].mean()\n",
    "        return [apln, msfn]\n",
    "\n",
    "    \n",
    "    def step(self, action):\n",
    "        action = [action, 1.]\n",
    "        cur_timestep = self.cur_timestep\n",
    "        ts_left = self.series_length - (cur_timestep - self.starting_point)\n",
    "        retval = None\n",
    "        cur_value = self.portfolio_value()\n",
    "        gain = cur_value - self.starting_portfolio_value\n",
    "        \n",
    "        if cur_timestep >= self.starting_point + (self.series_length * self.stride):\n",
    "            new_state = [self.state[0], self.state[1], self.state[2], *self.next_opening_price(), \\\n",
    "                        cur_value, *self.five_day_window()]\n",
    "            self.state = new_state\n",
    "            bonus = 0.\n",
    "            if self.state[0] > 0 and self.state[1] > 0:\n",
    "                bonus = self.diversification_bonus\n",
    "            return new_state, cur_value + bonus + gain, True, { \"msg\": \"done\"}\n",
    "        \n",
    "        if action[0] == 2:\n",
    "            new_state = [self.state[0], self.state[1], self.state[2], *self.next_opening_price(), \\\n",
    "                    cur_value, *self.five_day_window()]\n",
    "            self.state = new_state\n",
    "            retval = new_state, -self.inaction_penalty-ts_left +gain, False, { \"msg\": \"nothing\" }\n",
    "            \n",
    "        if action[0] == 0:\n",
    "            if action[1] * apl_open[cur_timestep] > self.state[2]:\n",
    "                new_state = [self.state[0], self.state[1], self.state[2], *self.next_opening_price(), \\\n",
    "                        cur_value, *self.five_day_window()]\n",
    "                self.state = new_state\n",
    "                retval = new_state, -ts_left+gain/2, True, { \"msg\": \"bankrupted self\"}\n",
    "            else:\n",
    "                apl_shares = self.state[0] + action[1]\n",
    "                cash_spent = action[1] * apl_open[cur_timestep] * 1.1\n",
    "                new_state = [apl_shares, self.state[1], self.state[2] - cash_spent, *self.next_opening_price(), \\\n",
    "                       cur_value, *self.five_day_window()]\n",
    "                self.state = new_state\n",
    "                retval = new_state, self.inaction_penalty-ts_left+gain, False, { \"msg\": \"bought AAPL\"}\n",
    "                \n",
    "        if action[0] == 3:\n",
    "            if action[1] * msf_open[cur_timestep] > self.state[2]:\n",
    "                new_state = [self.state[0], self.state[1], self.state[2], *self.next_opening_price(), \\\n",
    "                        cur_value, *self.five_day_window()]\n",
    "                self.state = new_state\n",
    "                retval =  new_state, -ts_left+gain/2, True, { \"msg\": \"bankrupted self\"}\n",
    "            else:\n",
    "                msf_shares = self.state[1] + action[1]\n",
    "                cash_spent = action[1] * msf_open[cur_timestep] * 1.1\n",
    "                new_state = [self.state[0], msf_shares, self.state[2] - cash_spent, *self.next_opening_price(), \\\n",
    "                       cur_value, *self.five_day_window()]\n",
    "                self.state = new_state\n",
    "                retval = new_state, self.inaction_penalty-ts_left+gain, False, { \"msg\": \"bought MSFT\"}\n",
    "        \n",
    "\n",
    "        if action[0] == 1:\n",
    "            if action[1] > self.state[0]:\n",
    "                new_state = [self.state[0], self.state[1], self.state[2], *self.next_opening_price(), \\\n",
    "                        cur_value, *self.five_day_window()]\n",
    "                self.state = new_state\n",
    "                retval = new_state, -ts_left+gain/2, True, { \"msg\": \"sold more than have\"}\n",
    "            else:\n",
    "                apl_shares = self.state[0] - action[1]\n",
    "                cash_gained = action[1] * apl_open[cur_timestep] * 0.9\n",
    "                new_state = [apl_shares, self.state[1], self.state[2] + cash_gained, *self.next_opening_price(), \\\n",
    "                       cur_value, *self.five_day_window()]\n",
    "                self.state = new_state\n",
    "                retval = new_state, self.inaction_penalty-ts_left+gain, False, { \"msg\": \"sold AAPL\"}\n",
    "                \n",
    "        if action[0] == 4:\n",
    "            if action[1] > self.state[1]:\n",
    "                new_state = [self.state[0], self.state[1], self.state[2], *self.next_opening_price(), \\\n",
    "                        cur_value, *self.five_day_window()]\n",
    "                self.state = new_state\n",
    "                retval = new_state, -ts_left+gain/2, True, { \"msg\": \"sold more than have\"}\n",
    "            else:\n",
    "                msf_shares = self.state[1] - action[1]\n",
    "                cash_gained = action[1] * msf_open[cur_timestep] * 0.9\n",
    "                new_state = [self.state[0], msf_shares, self.state[2] + cash_gained, *self.next_opening_price(), \\\n",
    "                       cur_value, *self.five_day_window()]\n",
    "                self.state = new_state\n",
    "                retval = new_state, self.inaction_penalty-ts_left+gain, False, { \"msg\": \"sold MSFT\"}\n",
    "                \n",
    "        self.cur_timestep += self.stride\n",
    "        return retval\n",
    "    \n",
    "    def reset(self):\n",
    "        self.state = torch.FloatTensor(torch.zeros(8)).cuda()\n",
    "        self.starting_cash = max(int(np.random.normal(self.starting_cash_mean, self.randomize_cash_std)), 0.)\n",
    "        self.cur_timestep = self.starting_point\n",
    "        self.state[0] = max(int(np.random.normal(self.starting_shares_mean, self.randomize_shares_std)), 0.)\n",
    "        self.state[1] = max(int(np.random.normal(self.starting_shares_mean, self.randomize_shares_std)), 0.)\n",
    "        self.state[2] = self.starting_cash\n",
    "        self.state[3] = apl_open[self.cur_timestep]\n",
    "        self.state[4] = msf_open[self.cur_timestep]\n",
    "        self.starting_portfolio_value = self.portfolio_value()\n",
    "        self.state[5] = self.starting_portfolio_value\n",
    "        self.state[6] = self.five_day_window()[0]\n",
    "        self.state[7] = self.five_day_window()[1]       \n",
    "        self.done = False\n",
    "        return self.state"
   ]
  },
  {
   "cell_type": "code",
   "execution_count": 0,
   "metadata": {
    "colab": {},
    "colab_type": "code",
    "id": "F9sHzbgG2opm"
   },
   "outputs": [],
   "source": [
    "class Policy(nn.Module):\n",
    "    def __init__(self):\n",
    "        super(Policy, self).__init__()\n",
    "        self.input_layer = nn.Linear(8, 128)\n",
    "        self.hidden_1 = nn.Linear(128, 128)\n",
    "        self.hidden_2 = nn.Linear(32,31)\n",
    "        self.hidden_state = torch.tensor(torch.zeros(2,1,32)).cuda()\n",
    "        self.rnn = nn.GRU(128, 32, 2)\n",
    "        self.action_head = nn.Linear(31, 5)\n",
    "        self.value_head = nn.Linear(31, 1)\n",
    "        self.saved_actions = []\n",
    "        self.rewards = []\n",
    "\n",
    "    def reset_hidden(self):\n",
    "        self.hidden_state = torch.tensor(torch.zeros(2,1,32)).cuda()\n",
    "        \n",
    "    def forward(self, x):\n",
    "\n",
    "        x = torch.tensor(x).float().cuda()\n",
    "        x = torch.sigmoid(self.input_layer(x))\n",
    "        x = torch.tanh(self.hidden_1(x))\n",
    "        x, self.hidden_state = self.rnn(x.view(1,-1,128), self.hidden_state.data)\n",
    "        x = F.relu(self.hidden_2(x.squeeze()))\n",
    "        action_scores = self.action_head(x)\n",
    "        state_values = self.value_head(x)\n",
    "        return F.softmax(action_scores, dim=-1), state_values\n",
    "    \n",
    "    def act(self, state):\n",
    "        probs, state_value = self.forward(state)\n",
    "        m = Categorical(probs)\n",
    "        action = m.sample()\n",
    "        if action == 1 and env.state[0] < 1: action = torch.LongTensor([2]).squeeze().cuda()\n",
    "        if action == 4 and env.state[1] < 1: action = torch.LongTensor([2]).squeeze().cuda()\n",
    "        self.saved_actions.append((m.log_prob(action), state_value))\n",
    "        return action.item()"
   ]
  },
  {
   "cell_type": "code",
   "execution_count": 0,
   "metadata": {
    "colab": {},
    "colab_type": "code",
    "id": "oMz3Tnu9xnPS"
   },
   "outputs": [],
   "source": [
    "class Q_policy(nn.Module):\n",
    "  def __init__(self):\n",
    "    super(Q_policy, self).__init__()\n",
    "\n",
    "\n",
    "    self.fc_val = nn.Sequential(\n",
    "        nn.Linear(8,128),\n",
    "        nn.ReLU(),\n",
    "        nn.Linear(128,128),\n",
    "        nn.ReLU(),\n",
    "        nn.Linear(128, 5)\n",
    "    )\n",
    "    \n",
    "    self.saved_actions = []\n",
    "    self.rewards = []\n",
    "    \n",
    "  def forward(self, x):\n",
    "    h = self.fc_val(x)\n",
    "    return (h)\n",
    "\n",
    "  def act(self, state):\n",
    "      probs, state_value = self.forward(state)\n",
    "      m = Categorical(probs)\n",
    "      action = m.sample()\n",
    "      if action == 1 and env.state[0] < 1: action = torch.LongTensor([2]).squeeze().cuda()\n",
    "      if action == 4 and env.state[1] < 1: action = torch.LongTensor([2]).squeeze().cuda()\n",
    "      self.saved_actions.append((m.log_prob(action), state_value))\n",
    "      return action.item()"
   ]
  },
  {
   "cell_type": "code",
   "execution_count": 0,
   "metadata": {
    "colab": {},
    "colab_type": "code",
    "id": "OqaYEAsg4QEN"
   },
   "outputs": [],
   "source": [
    "from collections import deque\n",
    "class Q_Policy_new(nn.Module):\n",
    "  def __init__(self, is_eval = False):\n",
    "    self.state_size = 8\n",
    "    self.action_size = 5\n",
    "    self.memory = deque(maxlen = 1000)\n",
    "    self.inventory = []\n",
    "    self.is_eval = is_eval\n",
    "\n",
    "    self.gamma = 0.95    # discount rate\n",
    "    self.epsilon = 1.0  # exploration rate\n",
    "    self.epsilon_min = 0.01\n",
    "    self.epsilon_decay = 0.995\n",
    "\n",
    "    self.model = self._model()\n",
    "\n",
    "    self.fc_val = nn.Sequential(\n",
    "    nn.Linear(8,128),\n",
    "    nn.ReLU(),\n",
    "    nn.Linear(128,128),\n",
    "    nn.ReLU(),\n",
    "    nn.Linear(128, 5)\n",
    "    )\n",
    "\n",
    "  def forward(self, x):\n",
    "    h = self.fc_val(x)\n",
    "    return (h)\n",
    "\n",
    "  def act(self, state):\n",
    "    if not self.is_eval and np.random.rand() <= self.epsilon:\n",
    "      return random.randrange(self.action_size)\n",
    "      \n",
    "    probs = self.forward(state)\n",
    "    m = Categorical(probs)\n",
    "    action = m.sample()\n",
    "    if action == 1 and env.state[0] < 1: action = torch.LongTensor([2]).squeeze().cuda()\n",
    "    if action == 4 and env.state[1] < 1: action = torch.LongTensor([2]).squeeze().cuda()\n",
    "    #self.saved_actions.append((m.log_prob(action), state_value))\n",
    "    return action.item()\n",
    "\n",
    "\n",
    "  def act(self, state):\n",
    "    if not self.is_eval and np.random.rand() <= self.epsilon:\n",
    "      return random.randrange(self.action_size)\n",
    "\n",
    "    options = self.model.predict(state)\n",
    "    return np.argmax(options[0])\n",
    "  \n",
    "  def memorize(self, state, action, reward, next_state, done):\n",
    "    self.memory.append((state, action, reward, nex_state, done))\n",
    "  \n",
    "  def _model(self):\n",
    "    model = Sequential()\n",
    "    model.add(Dense(units=64, input_dim=self.state_size, activation=\"relu\"))\n",
    "    model.add(Dense(units=32, activation=\"relu\"))\n",
    "    model.add(Dense(units=8, activation=\"relu\"))\n",
    "    model.add(Dense(self.action_size, activation=\"linear\"))\n",
    "    model.compile(loss=\"mse\", optimizer=Adam(lr=0.001))\n",
    "\n",
    "    return model\n",
    "\n",
    "  def expReplay(self, batch_size):\n",
    "      mini_batch = []\n",
    "      l = len(self.memory)\n",
    "      for i in xrange(l - batch_size + 1, l):\n",
    "        mini_batch.append(self.memory[i])\n",
    "\n",
    "      for state, action, reward, next_state, done in mini_batch:\n",
    "        target = reward\n",
    "        if not done:\n",
    "          target = reward + self.gamma * np.amax(self.model.predict(next_state)[0])\n",
    "\n",
    "        target_f = self.model.predict(state)\n",
    "        target_f[0][action] = target\n",
    "        self.model.fit(state, target_f, epochs=1, verbose=0)\n",
    "\n",
    "      if self.epsilon > self.epsilon_min:\n",
    "        self.epsilon *= self.epsilon_decay "
   ]
  },
  {
   "cell_type": "code",
   "execution_count": 0,
   "metadata": {
    "colab": {
     "base_uri": "https://localhost:8080/",
     "height": 380
    },
    "colab_type": "code",
    "id": "MwdFYGX-GGNn",
    "outputId": "fcce859f-89ab-47c8-c4d4-a9673a4e59bc"
   },
   "outputs": [
    {
     "ename": "NameError",
     "evalue": "ignored",
     "output_type": "error",
     "traceback": [
      "\u001b[0;31m---------------------------------------------------------------------------\u001b[0m",
      "\u001b[0;31mNameError\u001b[0m                                 Traceback (most recent call last)",
      "\u001b[0;32m<ipython-input-50-da9a0edd489d>\u001b[0m in \u001b[0;36m<module>\u001b[0;34m()\u001b[0m\n\u001b[1;32m      1\u001b[0m \u001b[0menv\u001b[0m \u001b[0;34m=\u001b[0m \u001b[0mTradingEnvironment\u001b[0m\u001b[0;34m(\u001b[0m\u001b[0mmax_stride\u001b[0m\u001b[0;34m=\u001b[0m\u001b[0;36m4\u001b[0m\u001b[0;34m,\u001b[0m \u001b[0mseries_length\u001b[0m\u001b[0;34m=\u001b[0m\u001b[0;36m250\u001b[0m\u001b[0;34m,\u001b[0m \u001b[0mstarting_cash_mean\u001b[0m\u001b[0;34m=\u001b[0m\u001b[0;36m1000\u001b[0m\u001b[0;34m,\u001b[0m \u001b[0mrandomize_cash_std\u001b[0m\u001b[0;34m=\u001b[0m\u001b[0;36m100\u001b[0m\u001b[0;34m,\u001b[0m \u001b[0mstarting_shares_mean\u001b[0m\u001b[0;34m=\u001b[0m\u001b[0;36m100\u001b[0m\u001b[0;34m,\u001b[0m \u001b[0mrandomize_shares_std\u001b[0m\u001b[0;34m=\u001b[0m\u001b[0;36m10\u001b[0m\u001b[0;34m)\u001b[0m\u001b[0;34m\u001b[0m\u001b[0;34m\u001b[0m\u001b[0m\n\u001b[0;32m----> 2\u001b[0;31m \u001b[0magent\u001b[0m \u001b[0;34m=\u001b[0m \u001b[0mQ_Policy_new\u001b[0m\u001b[0;34m(\u001b[0m\u001b[0;34m)\u001b[0m\u001b[0;34m\u001b[0m\u001b[0;34m\u001b[0m\u001b[0m\n\u001b[0m\u001b[1;32m      3\u001b[0m \u001b[0;34m\u001b[0m\u001b[0m\n\u001b[1;32m      4\u001b[0m \u001b[0mEPISODES\u001b[0m \u001b[0;34m=\u001b[0m \u001b[0;36m200\u001b[0m\u001b[0;34m\u001b[0m\u001b[0;34m\u001b[0m\u001b[0m\n\u001b[1;32m      5\u001b[0m \u001b[0mrewards\u001b[0m \u001b[0;34m=\u001b[0m \u001b[0;34m[\u001b[0m\u001b[0;34m]\u001b[0m\u001b[0;34m\u001b[0m\u001b[0;34m\u001b[0m\u001b[0m\n",
      "\u001b[0;32m<ipython-input-49-2e83b23414bf>\u001b[0m in \u001b[0;36m__init__\u001b[0;34m(self, is_eval)\u001b[0m\n\u001b[1;32m     13\u001b[0m     \u001b[0mself\u001b[0m\u001b[0;34m.\u001b[0m\u001b[0mepsilon_decay\u001b[0m \u001b[0;34m=\u001b[0m \u001b[0;36m0.995\u001b[0m\u001b[0;34m\u001b[0m\u001b[0;34m\u001b[0m\u001b[0m\n\u001b[1;32m     14\u001b[0m \u001b[0;34m\u001b[0m\u001b[0m\n\u001b[0;32m---> 15\u001b[0;31m     \u001b[0mself\u001b[0m\u001b[0;34m.\u001b[0m\u001b[0mmodel\u001b[0m \u001b[0;34m=\u001b[0m \u001b[0mself\u001b[0m\u001b[0;34m.\u001b[0m\u001b[0m_model\u001b[0m\u001b[0;34m(\u001b[0m\u001b[0;34m)\u001b[0m\u001b[0;34m\u001b[0m\u001b[0;34m\u001b[0m\u001b[0m\n\u001b[0m\u001b[1;32m     16\u001b[0m \u001b[0;34m\u001b[0m\u001b[0m\n\u001b[1;32m     17\u001b[0m   \u001b[0;32mdef\u001b[0m \u001b[0mact\u001b[0m\u001b[0;34m(\u001b[0m\u001b[0mself\u001b[0m\u001b[0;34m,\u001b[0m \u001b[0mstate\u001b[0m\u001b[0;34m)\u001b[0m\u001b[0;34m:\u001b[0m\u001b[0;34m\u001b[0m\u001b[0;34m\u001b[0m\u001b[0m\n",
      "\u001b[0;32m<ipython-input-49-2e83b23414bf>\u001b[0m in \u001b[0;36m_model\u001b[0;34m(self)\u001b[0m\n\u001b[1;32m     26\u001b[0m \u001b[0;34m\u001b[0m\u001b[0m\n\u001b[1;32m     27\u001b[0m   \u001b[0;32mdef\u001b[0m \u001b[0m_model\u001b[0m\u001b[0;34m(\u001b[0m\u001b[0mself\u001b[0m\u001b[0;34m)\u001b[0m\u001b[0;34m:\u001b[0m\u001b[0;34m\u001b[0m\u001b[0;34m\u001b[0m\u001b[0m\n\u001b[0;32m---> 28\u001b[0;31m     \u001b[0mmodel\u001b[0m \u001b[0;34m=\u001b[0m \u001b[0mSequential\u001b[0m\u001b[0;34m(\u001b[0m\u001b[0;34m)\u001b[0m\u001b[0;34m\u001b[0m\u001b[0;34m\u001b[0m\u001b[0m\n\u001b[0m\u001b[1;32m     29\u001b[0m     \u001b[0mmodel\u001b[0m\u001b[0;34m.\u001b[0m\u001b[0madd\u001b[0m\u001b[0;34m(\u001b[0m\u001b[0mDense\u001b[0m\u001b[0;34m(\u001b[0m\u001b[0munits\u001b[0m\u001b[0;34m=\u001b[0m\u001b[0;36m64\u001b[0m\u001b[0;34m,\u001b[0m \u001b[0minput_dim\u001b[0m\u001b[0;34m=\u001b[0m\u001b[0mself\u001b[0m\u001b[0;34m.\u001b[0m\u001b[0mstate_size\u001b[0m\u001b[0;34m,\u001b[0m \u001b[0mactivation\u001b[0m\u001b[0;34m=\u001b[0m\u001b[0;34m\"relu\"\u001b[0m\u001b[0;34m)\u001b[0m\u001b[0;34m)\u001b[0m\u001b[0;34m\u001b[0m\u001b[0;34m\u001b[0m\u001b[0m\n\u001b[1;32m     30\u001b[0m     \u001b[0mmodel\u001b[0m\u001b[0;34m.\u001b[0m\u001b[0madd\u001b[0m\u001b[0;34m(\u001b[0m\u001b[0mDense\u001b[0m\u001b[0;34m(\u001b[0m\u001b[0munits\u001b[0m\u001b[0;34m=\u001b[0m\u001b[0;36m32\u001b[0m\u001b[0;34m,\u001b[0m \u001b[0mactivation\u001b[0m\u001b[0;34m=\u001b[0m\u001b[0;34m\"relu\"\u001b[0m\u001b[0;34m)\u001b[0m\u001b[0;34m)\u001b[0m\u001b[0;34m\u001b[0m\u001b[0;34m\u001b[0m\u001b[0m\n",
      "\u001b[0;31mNameError\u001b[0m: name 'Sequential' is not defined"
     ]
    }
   ],
   "source": [
    "env = TradingEnvironment(max_stride=4, series_length=250, starting_cash_mean=1000, randomize_cash_std=100, starting_shares_mean=100, randomize_shares_std=10)\n",
    "agent = Q_Policy_new()\n",
    "\n",
    "EPISODES = 200\n",
    "rewards = []\n",
    "running_reward = 0 #use ???\n",
    "\n",
    "for e in range(EPISODES):\n",
    "  state = env.reset()\n",
    "  state = np.reshape(state, [1,_]) #check\n",
    "\n",
    "  reward = 0\n",
    "  done = False\n",
    "  msg = None\n",
    "\n",
    "  while not done:\n",
    "    action = agent.act(state)\n",
    "    next_state, reward, done, msg = env.step(action)\n",
    "    next_state = np.reshape(next_state, [1, _])\n",
    "    agent.memorize(state, action, reward, next_state, done)\n",
    "    #rewards.append(reward)\n",
    "    state = next_state\n",
    "\n",
    "    if done:\n",
    "      break\n",
    "  if msg[\"msg\"] == \"done\" and env.portfolio_value() > env.starting_portfolio_value * 1.1 and running_reward > 500:\n",
    "        print(\"Early Stopping: \" + str(int(reward)))\n",
    "        \n",
    "  agent.expReplay(32)"
   ]
  },
  {
   "cell_type": "code",
   "execution_count": 0,
   "metadata": {
    "colab": {},
    "colab_type": "code",
    "id": "gWPylhUizpqD"
   },
   "outputs": [],
   "source": [
    "#NOT IN USE\n",
    "\n",
    "env = TradingEnvironment(max_stride=4, series_length=250, starting_cash_mean=1000, randomize_cash_std=100, starting_shares_mean=100, randomize_shares_std=10)\n",
    "model = Q_policy().cuda()\n",
    "optimizer = optim.Adam(model.parameters(), lr = 0.001)\n"
   ]
  },
  {
   "cell_type": "code",
   "execution_count": 0,
   "metadata": {
    "colab": {
     "base_uri": "https://localhost:8080/",
     "height": 72
    },
    "colab_type": "code",
    "id": "cFN7oEwZ2opo",
    "outputId": "f7afb75a-dfc4-444f-9e8f-4280f970102d"
   },
   "outputs": [
    {
     "name": "stderr",
     "output_type": "stream",
     "text": [
      "/usr/local/lib/python3.6/dist-packages/ipykernel_launcher.py:7: UserWarning: To copy construct from a tensor, it is recommended to use sourceTensor.clone().detach() or sourceTensor.clone().detach().requires_grad_(True), rather than torch.tensor(sourceTensor).\n",
      "  import sys\n"
     ]
    }
   ],
   "source": [
    "env = TradingEnvironment(max_stride=4, series_length=250, starting_cash_mean=1000, randomize_cash_std=100, starting_shares_mean=100, randomize_shares_std=10)\n",
    "model = Policy().cuda()\n",
    "optimizer = optim.Adam(model.parameters(), lr=3e-4)"
   ]
  },
  {
   "cell_type": "code",
   "execution_count": 0,
   "metadata": {
    "colab": {
     "base_uri": "https://localhost:8080/",
     "height": 356
    },
    "colab_type": "code",
    "id": "T0Q-gjrw2opr",
    "outputId": "bd61e1b9-e055-4f19-9c9d-6fa968d7ec65"
   },
   "outputs": [
    {
     "ename": "ValueError",
     "evalue": "ignored",
     "output_type": "error",
     "traceback": [
      "\u001b[0;31m---------------------------------------------------------------------------\u001b[0m",
      "\u001b[0;31mValueError\u001b[0m                                Traceback (most recent call last)",
      "\u001b[0;32m<ipython-input-42-001f07fc530f>\u001b[0m in \u001b[0;36m<module>\u001b[0;34m()\u001b[0m\n\u001b[1;32m     50\u001b[0m     \u001b[0mmsg\u001b[0m \u001b[0;34m=\u001b[0m \u001b[0;32mNone\u001b[0m\u001b[0;34m\u001b[0m\u001b[0;34m\u001b[0m\u001b[0m\n\u001b[1;32m     51\u001b[0m     \u001b[0;32mwhile\u001b[0m \u001b[0;32mnot\u001b[0m \u001b[0mdone\u001b[0m\u001b[0;34m:\u001b[0m\u001b[0;34m\u001b[0m\u001b[0;34m\u001b[0m\u001b[0m\n\u001b[0;32m---> 52\u001b[0;31m         \u001b[0maction\u001b[0m \u001b[0;34m=\u001b[0m \u001b[0mmodel\u001b[0m\u001b[0;34m.\u001b[0m\u001b[0mact\u001b[0m\u001b[0;34m(\u001b[0m\u001b[0mstate\u001b[0m\u001b[0;34m)\u001b[0m\u001b[0;34m\u001b[0m\u001b[0;34m\u001b[0m\u001b[0m\n\u001b[0m\u001b[1;32m     53\u001b[0m         \u001b[0mstate\u001b[0m\u001b[0;34m,\u001b[0m \u001b[0mreward\u001b[0m\u001b[0;34m,\u001b[0m \u001b[0mdone\u001b[0m\u001b[0;34m,\u001b[0m \u001b[0mmsg\u001b[0m \u001b[0;34m=\u001b[0m \u001b[0menv\u001b[0m\u001b[0;34m.\u001b[0m\u001b[0mstep\u001b[0m\u001b[0;34m(\u001b[0m\u001b[0maction\u001b[0m\u001b[0;34m)\u001b[0m\u001b[0;34m\u001b[0m\u001b[0;34m\u001b[0m\u001b[0m\n\u001b[1;32m     54\u001b[0m         \u001b[0mmodel\u001b[0m\u001b[0;34m.\u001b[0m\u001b[0mrewards\u001b[0m\u001b[0;34m.\u001b[0m\u001b[0mappend\u001b[0m\u001b[0;34m(\u001b[0m\u001b[0mreward\u001b[0m\u001b[0;34m)\u001b[0m\u001b[0;34m\u001b[0m\u001b[0;34m\u001b[0m\u001b[0m\n",
      "\u001b[0;32m<ipython-input-40-52263c3e9e12>\u001b[0m in \u001b[0;36mact\u001b[0;34m(self, state)\u001b[0m\n\u001b[1;32m     20\u001b[0m \u001b[0;34m\u001b[0m\u001b[0m\n\u001b[1;32m     21\u001b[0m   \u001b[0;32mdef\u001b[0m \u001b[0mact\u001b[0m\u001b[0;34m(\u001b[0m\u001b[0mself\u001b[0m\u001b[0;34m,\u001b[0m \u001b[0mstate\u001b[0m\u001b[0;34m)\u001b[0m\u001b[0;34m:\u001b[0m\u001b[0;34m\u001b[0m\u001b[0;34m\u001b[0m\u001b[0m\n\u001b[0;32m---> 22\u001b[0;31m       \u001b[0mprobs\u001b[0m\u001b[0;34m,\u001b[0m \u001b[0mstate_value\u001b[0m \u001b[0;34m=\u001b[0m \u001b[0mself\u001b[0m\u001b[0;34m.\u001b[0m\u001b[0mforward\u001b[0m\u001b[0;34m(\u001b[0m\u001b[0mstate\u001b[0m\u001b[0;34m)\u001b[0m\u001b[0;34m\u001b[0m\u001b[0;34m\u001b[0m\u001b[0m\n\u001b[0m\u001b[1;32m     23\u001b[0m       \u001b[0mm\u001b[0m \u001b[0;34m=\u001b[0m \u001b[0mCategorical\u001b[0m\u001b[0;34m(\u001b[0m\u001b[0mprobs\u001b[0m\u001b[0;34m)\u001b[0m\u001b[0;34m\u001b[0m\u001b[0;34m\u001b[0m\u001b[0m\n\u001b[1;32m     24\u001b[0m       \u001b[0maction\u001b[0m \u001b[0;34m=\u001b[0m \u001b[0mm\u001b[0m\u001b[0;34m.\u001b[0m\u001b[0msample\u001b[0m\u001b[0;34m(\u001b[0m\u001b[0;34m)\u001b[0m\u001b[0;34m\u001b[0m\u001b[0;34m\u001b[0m\u001b[0m\n",
      "\u001b[0;31mValueError\u001b[0m: too many values to unpack (expected 2)"
     ]
    }
   ],
   "source": [
    "env.reset()\n",
    "# In case you're running this a second time with the same model, delete the gradients\n",
    "del model.rewards[:]\n",
    "del model.saved_actions[:]\n",
    "\n",
    "gamma = 0.9\n",
    "log_interval = 60\n",
    "\n",
    "policy_loss = []\n",
    "value_loss = []\n",
    "\n",
    "def finish_episode():\n",
    "    R = 0\n",
    "    saved_actions = model.saved_actions\n",
    "    policy_losses = []\n",
    "    value_losses = []\n",
    "    rewards = []\n",
    "    for r in model.rewards[::-1]:\n",
    "        R = r + (gamma * R)\n",
    "        rewards.insert(0, R)\n",
    "    rewards = torch.tensor(rewards)\n",
    "    \n",
    "    epsilon = (torch.rand(1) / 1e4) - 5e-5\n",
    "    # With different architectures, I found the following standardization step sometimes\n",
    "    # helpful, sometimes unhelpful.\n",
    "    # rewards = (rewards - rewards.mean()) / (rewards.std(unbiased=False) + epsilon)\n",
    "    # Alternatively, comment it out and use the following line instead:\n",
    "    rewards += epsilon\n",
    "    \n",
    "    for (log_prob, value), r in zip(saved_actions, rewards):\n",
    "        reward = torch.tensor(r - value.item()).cuda()\n",
    "        policy_losses.append(-log_prob * reward)\n",
    "        value_losses.append(F.smooth_l1_loss(value, torch.tensor([r]).cuda()))\n",
    "        \n",
    "    optimizer.zero_grad()\n",
    "    loss = torch.stack(policy_losses).sum() + torch.stack(value_losses).sum()\n",
    "    policy_loss.append(sum(policy_losses))\n",
    "    value_loss.append(sum(value_losses))\n",
    "    loss = torch.clamp(loss, -1e-5, 1e5)\n",
    "    loss.backward()\n",
    "    optimizer.step()\n",
    "    del model.rewards[:]\n",
    "    del model.saved_actions[:]\n",
    "\n",
    "rewards = []\n",
    "running_reward = 0\n",
    "for episode in range(0, 200):\n",
    "    state = env.reset()\n",
    "    reward = 0\n",
    "    done = False\n",
    "    msg = None\n",
    "    while not done:\n",
    "        action = model.act(state)\n",
    "        state, reward, done, msg = env.step(action)\n",
    "        model.rewards.append(reward)\n",
    "        if done:\n",
    "            break\n",
    "    running_reward = running_reward * (1 - 1/log_interval) + reward * (1/log_interval)\n",
    "    rewards.append(running_reward)\n",
    "    finish_episode()\n",
    "    # Resetting the hidden state seems unnecessary - it's effectively random from the previous\n",
    "    # episode anyway, more random than a bunch of zeros.\n",
    "    # model.reset_hidden()\n",
    "    if msg[\"msg\"] == \"done\" and env.portfolio_value() > env.starting_portfolio_value * 1.1 and running_reward > 500:\n",
    "        print(\"Early Stopping: \" + str(int(reward)))\n",
    "        break\n",
    "    if episode % log_interval == 0:\n",
    "        print(\"\"\"Episode {}: started at {:.1f}, finished at {:.1f} because {} @ t={}, \\\n",
    "last reward {:.1f}, running reward {:.1f}\"\"\".format(episode, env.starting_portfolio_value, \\\n",
    "              env.portfolio_value(), msg[\"msg\"], env.cur_timestep, reward, running_reward))"
   ]
  },
  {
   "cell_type": "code",
   "execution_count": 0,
   "metadata": {
    "colab": {
     "base_uri": "https://localhost:8080/",
     "height": 524
    },
    "colab_type": "code",
    "id": "3p6FV0X31yxE",
    "outputId": "8341a176-6d07-4900-8661-06e2978d8f44"
   },
   "outputs": [
    {
     "data": {
      "image/png": "[encoded data removed]",
      "text/plain": [
       "<Figure size 432x288 with 1 Axes>"
      ]
     },
     "metadata": {
      "needs_background": "light",
      "tags": []
     },
     "output_type": "display_data"
    },
    {
     "data": {
      "image/png": "[encoded data removed]",
      "text/plain": [
       "<Figure size 432x288 with 1 Axes>"
      ]
     },
     "metadata": {
      "needs_background": "light",
      "tags": []
     },
     "output_type": "display_data"
    }
   ],
   "source": [
    "plt.plot(rewards)\n",
    "plt.show()\n",
    "plt.plot(value_loss)\n",
    "plt.show()"
   ]
  },
  {
   "cell_type": "markdown",
   "metadata": {
    "colab_type": "text",
    "id": "vtDItXcC2opv"
   },
   "source": [
    "## Let's see how it does in practice, on the training data"
   ]
  },
  {
   "cell_type": "code",
   "execution_count": 0,
   "metadata": {
    "colab": {
     "base_uri": "https://localhost:8080/",
     "height": 107
    },
    "colab_type": "code",
    "id": "CLT8c4IZ2opv",
    "outputId": "ffec438b-09f8-4da5-8710-c06b3651d677"
   },
   "outputs": [
    {
     "name": "stderr",
     "output_type": "stream",
     "text": [
      "/usr/local/lib/python3.6/dist-packages/ipykernel_launcher.py:19: UserWarning: To copy construct from a tensor, it is recommended to use sourceTensor.clone().detach() or sourceTensor.clone().detach().requires_grad_(True), rather than torch.tensor(sourceTensor).\n"
     ]
    },
    {
     "name": "stdout",
     "output_type": "stream",
     "text": [
      "Failed goes: 969 / 1000, Avg Rewards per successful game: 10180.8173828125\n",
      "Avg % profit per game: -0.017048891633749008\n",
      "Avg % profit per finished game: -0.549964189529419\n"
     ]
    }
   ],
   "source": [
    "env = TradingEnvironment(max_stride=4, series_length=250, starting_cash_mean=1000, randomize_cash_std=100, starting_shares_mean=100, randomize_shares_std=10)\n",
    "\n",
    "total_rewards = 0\n",
    "total_profits = 0\n",
    "failed_goes = 0\n",
    "num_goes = 1000\n",
    "\n",
    "for j in range(num_goes):\n",
    "    env.reset()\n",
    "    reward_this_go = -1e8\n",
    "    for i in range(0,env.series_length + 1):\n",
    "        action = model.act(env.state)\n",
    "        next_state, reward, done, msg = env.step(action)\n",
    "        if msg[\"msg\"] == \"done\":\n",
    "            reward_this_go = env.portfolio_value()\n",
    "            break\n",
    "        if done:\n",
    "            break\n",
    "    total_profits += (env.portfolio_value() - env.starting_portfolio_value) / env.starting_portfolio_value\n",
    "    if reward_this_go == -1e8:\n",
    "        failed_goes += 1\n",
    "    else:\n",
    "        total_rewards += reward_this_go\n",
    "\n",
    "if failed_goes == num_goes:\n",
    "    print(\"Failed all\")\n",
    "else:\n",
    "    print(\"Failed goes: {} / {}, Avg Rewards per successful game: {}\".format(failed_goes, num_goes, total_rewards / (num_goes - failed_goes)))\n",
    "    print(\"Avg % profit per game: {}\".format(total_profits / num_goes))\n",
    "    print(\"Avg % profit per finished game: {}\".format(total_profits / (num_goes - failed_goes)))"
   ]
  },
  {
   "cell_type": "markdown",
   "metadata": {
    "colab_type": "text",
    "id": "sGBLbmVc2opy"
   },
   "source": [
    "## And here's how a sample trading run might look"
   ]
  },
  {
   "cell_type": "code",
   "execution_count": 0,
   "metadata": {
    "colab": {
     "base_uri": "https://localhost:8080/",
     "height": 1000
    },
    "colab_type": "code",
    "id": "cEokKmvK2opy",
    "outputId": "029c2868-634e-40d3-f7d6-ca36616b5502"
   },
   "outputs": [
    {
     "name": "stdout",
     "output_type": "stream",
     "text": [
      "starting portfolio value 8313.39453125\n",
      "bought AAPL, have 107.0 aapl and 105.0 msft and 927.80224609375 cash\n",
      "nothing, have 107.0 aapl and 105.0 msft and 927.80224609375 cash\n",
      "sold MSFT, have 107.0 aapl and 104.0 msft and 962.0616455078125 cash\n",
      "bought MSFT, have 107.0 aapl and 105.0 msft and 919.98876953125 cash\n",
      "bought MSFT, have 107.0 aapl and 106.0 msft and 878.2656860351562 cash\n",
      "sold MSFT, have 107.0 aapl and 105.0 msft and 913.7006225585938 cash\n",
      "bought AAPL, have 108.0 aapl and 105.0 msft and 885.3314819335938 cash\n",
      "bought AAPL, have 109.0 aapl and 105.0 msft and 855.1891479492188 cash\n",
      "sold MSFT, have 109.0 aapl and 104.0 msft and 889.9905395507812 cash\n",
      "bought AAPL, have 110.0 aapl and 104.0 msft and 862.2118530273438 cash\n",
      "bought AAPL, have 111.0 aapl and 104.0 msft and 833.5855102539062 cash\n",
      "bought MSFT, have 111.0 aapl and 105.0 msft and 791.17578125 cash\n",
      "bought AAPL, have 112.0 aapl and 105.0 msft and 763.5239868164062 cash\n",
      "bought AAPL, have 113.0 aapl and 105.0 msft and 736.012939453125 cash\n",
      "nothing, have 113.0 aapl and 105.0 msft and 736.012939453125 cash\n",
      "bought AAPL, have 114.0 aapl and 105.0 msft and 707.8924560546875 cash\n",
      "nothing, have 114.0 aapl and 105.0 msft and 707.8924560546875 cash\n",
      "bought AAPL, have 115.0 aapl and 105.0 msft and 683.3472290039062 cash\n",
      "bought MSFT, have 115.0 aapl and 106.0 msft and 640.0858764648438 cash\n",
      "bought AAPL, have 116.0 aapl and 106.0 msft and 608.4349365234375 cash\n",
      "bought AAPL, have 117.0 aapl and 106.0 msft and 573.2586059570312 cash\n",
      "sold MSFT, have 117.0 aapl and 105.0 msft and 607.5257568359375 cash\n",
      "sold AAPL, have 116.0 aapl and 105.0 msft and 635.1310424804688 cash\n",
      "bought AAPL, have 117.0 aapl and 105.0 msft and 601.5256958007812 cash\n",
      "bought MSFT, have 117.0 aapl and 106.0 msft and 559.1309204101562 cash\n",
      "bought MSFT, have 117.0 aapl and 107.0 msft and 517.0859375 cash\n",
      "sold MSFT, have 117.0 aapl and 106.0 msft and 551.3802490234375 cash\n",
      "sold MSFT, have 117.0 aapl and 105.0 msft and 586.2523803710938 cash\n",
      "nothing, have 117.0 aapl and 105.0 msft and 586.2523803710938 cash\n",
      "sold AAPL, have 116.0 aapl and 105.0 msft and 619.1920166015625 cash\n",
      "bought MSFT, have 116.0 aapl and 106.0 msft and 576.1678466796875 cash\n",
      "sold MSFT, have 116.0 aapl and 105.0 msft and 611.029296875 cash\n",
      "bought AAPL, have 117.0 aapl and 105.0 msft and 567.7615966796875 cash\n",
      "sold MSFT, have 117.0 aapl and 104.0 msft and 602.8426513671875 cash\n",
      "bought AAPL, have 118.0 aapl and 104.0 msft and 560.6972045898438 cash\n",
      "bought MSFT, have 118.0 aapl and 105.0 msft and 516.0448608398438 cash\n",
      "bought AAPL, have 119.0 aapl and 105.0 msft and 472.1396789550781 cash\n",
      "bought AAPL, have 120.0 aapl and 105.0 msft and 431.1991271972656 cash\n",
      "nothing, have 120.0 aapl and 105.0 msft and 431.1991271972656 cash\n",
      "bought MSFT, have 120.0 aapl and 106.0 msft and 386.6258544921875 cash\n",
      "sold MSFT, have 120.0 aapl and 105.0 msft and 423.3037109375 cash\n",
      "bought AAPL, have 121.0 aapl and 105.0 msft and 376.09368896484375 cash\n",
      "sold AAPL, have 120.0 aapl and 105.0 msft and 411.9974670410156 cash\n",
      "bought MSFT, have 120.0 aapl and 106.0 msft and 366.13916015625 cash\n",
      "bought MSFT, have 120.0 aapl and 107.0 msft and 320.94970703125 cash\n",
      "sold MSFT, have 120.0 aapl and 106.0 msft and 358.58172607421875 cash\n",
      "sold MSFT, have 120.0 aapl and 105.0 msft and 394.820556640625 cash\n",
      "nothing, have 120.0 aapl and 105.0 msft and 394.820556640625 cash\n",
      "sold AAPL, have 119.0 aapl and 105.0 msft and 429.1037292480469 cash\n",
      "sold AAPL, have 118.0 aapl and 105.0 msft and 464.5972900390625 cash\n",
      "bought MSFT, have 118.0 aapl and 106.0 msft and 424.2454528808594 cash\n",
      "bought MSFT, have 118.0 aapl and 107.0 msft and 379.9423828125 cash\n",
      "sold AAPL, have 117.0 aapl and 107.0 msft and 420.5782470703125 cash\n",
      "bought AAPL, have 118.0 aapl and 107.0 msft and 368.8707275390625 cash\n",
      "sold MSFT, have 118.0 aapl and 106.0 msft and 406.4561767578125 cash\n",
      "bought AAPL, have 119.0 aapl and 106.0 msft and 349.68890380859375 cash\n",
      "bought MSFT, have 119.0 aapl and 107.0 msft and 303.9556579589844 cash\n",
      "nothing, have 119.0 aapl and 107.0 msft and 303.9556579589844 cash\n",
      "bought MSFT, have 119.0 aapl and 108.0 msft and 259.30694580078125 cash\n",
      "nothing, have 119.0 aapl and 108.0 msft and 259.30694580078125 cash\n",
      "sold MSFT, have 119.0 aapl and 107.0 msft and 293.2763671875 cash\n",
      "nothing, have 119.0 aapl and 107.0 msft and 293.2763671875 cash\n",
      "bought MSFT, have 119.0 aapl and 108.0 msft and 250.1697235107422 cash\n",
      "bought MSFT, have 119.0 aapl and 109.0 msft and 208.7218475341797 cash\n",
      "nothing, have 119.0 aapl and 109.0 msft and 208.7218475341797 cash\n",
      "sold AAPL, have 118.0 aapl and 109.0 msft and 248.7587432861328 cash\n",
      "bought AAPL, have 119.0 aapl and 109.0 msft and 199.85238647460938 cash\n",
      "nothing, have 119.0 aapl and 109.0 msft and 199.85238647460938 cash\n",
      "bought MSFT, have 119.0 aapl and 110.0 msft and 164.59735107421875 cash\n",
      "sold MSFT, have 119.0 aapl and 109.0 msft and 193.83120727539062 cash\n",
      "bought AAPL, have 120.0 aapl and 109.0 msft and 127.45735168457031 cash\n",
      "sold AAPL, have 119.0 aapl and 109.0 msft and 182.71263122558594 cash\n",
      "nothing, have 119.0 aapl and 109.0 msft and 182.71263122558594 cash\n",
      "sold AAPL, have 118.0 aapl and 109.0 msft and 237.88670349121094 cash\n",
      "bought MSFT, have 118.0 aapl and 110.0 msft and 203.01425170898438 cash\n",
      "bought MSFT, have 118.0 aapl and 111.0 msft and 169.30557250976562 cash\n",
      "nothing, have 118.0 aapl and 111.0 msft and 169.30557250976562 cash\n",
      "nothing, have 118.0 aapl and 111.0 msft and 169.30557250976562 cash\n"
     ]
    },
    {
     "name": "stderr",
     "output_type": "stream",
     "text": [
      "/usr/local/lib/python3.6/dist-packages/ipykernel_launcher.py:19: UserWarning: To copy construct from a tensor, it is recommended to use sourceTensor.clone().detach() or sourceTensor.clone().detach().requires_grad_(True), rather than torch.tensor(sourceTensor).\n"
     ]
    },
    {
     "name": "stdout",
     "output_type": "stream",
     "text": [
      "bought AAPL, have 119.0 aapl and 111.0 msft and 108.146728515625 cash\n",
      "nothing, have 119.0 aapl and 111.0 msft and 108.146728515625 cash\n",
      "bought MSFT, have 119.0 aapl and 112.0 msft and 75.05387878417969 cash\n",
      "sold AAPL, have 118.0 aapl and 112.0 msft and 124.99812316894531 cash\n",
      "nothing, have 118.0 aapl and 112.0 msft and 124.99812316894531 cash\n",
      "sold MSFT, have 118.0 aapl and 111.0 msft and 157.80357360839844 cash\n",
      "sold MSFT, have 118.0 aapl and 110.0 msft and 189.43185424804688 cash\n",
      "sold AAPL, have 117.0 aapl and 110.0 msft and 238.37667846679688 cash\n",
      "bought AAPL, have 118.0 aapl and 110.0 msft and 175.81085205078125 cash\n",
      "bought AAPL, have 119.0 aapl and 110.0 msft and 110.01665496826172 cash\n",
      "bought MSFT, have 119.0 aapl and 111.0 msft and 72.29694366455078 cash\n",
      "bought AAPL, have 120.0 aapl and 111.0 msft and 9.351997375488281 cash\n",
      "sold MSFT, have 120.0 aapl and 110.0 msft and 38.417236328125 cash\n",
      "sold AAPL, have 119.0 aapl and 110.0 msft and 87.10943603515625 cash\n",
      "bought MSFT, have 119.0 aapl and 111.0 msft and 51.382789611816406 cash\n",
      "bought MSFT, have 119.0 aapl and 112.0 msft and 16.599910736083984 cash\n",
      "bankrupted self by 1\n"
     ]
    }
   ],
   "source": [
    "env = TradingEnvironment(max_stride=4, series_length=250, starting_cash_mean=1000, randomize_cash_std=100, starting_shares_mean=100, randomize_shares_std=10)\n",
    "env.reset()\n",
    "print(\"starting portfolio value {}\".format(env.portfolio_value()))\n",
    "for i in range(0,env.series_length + 1):\n",
    "    action = model.act(env.state)\n",
    "    next_state, reward, done, msg = env.step(action)\n",
    "    if msg[\"msg\"] == 'bankrupted self':\n",
    "        print('bankrupted self by 1')\n",
    "        break\n",
    "    if msg[\"msg\"] == 'sold more than have':\n",
    "        print('sold more than have by 1')\n",
    "        break\n",
    "    print(\"{}, have {} aapl and {} msft and {} cash\".format(msg[\"msg\"], next_state[0], next_state[1], next_state[2]))\n",
    "    if msg[\"msg\"] == \"done\":\n",
    "        print(next_state, reward)\n",
    "        print(\"total portfolio value {}\".format(env.portfolio_value()))\n",
    "        break"
   ]
  },
  {
   "cell_type": "code",
   "execution_count": 0,
   "metadata": {
    "colab": {},
    "colab_type": "code",
    "id": "n7IdTsWF2op1"
   },
   "outputs": [],
   "source": [
    "apl_open_orig = apl_stock[\"Open\"].values\n",
    "apl_close_orig = apl_stock[\"Close\"].values\n",
    "msf_open_orig = msf_stock[\"Open\"].values\n",
    "msf_close_orig = msf_stock[\"Close\"].values\n",
    "apl_open_orig[:108] /= 7\n",
    "apl_close_orig[:108] /= 7"
   ]
  },
  {
   "cell_type": "code",
   "execution_count": 0,
   "metadata": {
    "colab": {
     "base_uri": "https://localhost:8080/",
     "height": 303
    },
    "colab_type": "code",
    "id": "7d6CJkVG2op3",
    "outputId": "797a09f5-b0ee-4dbb-9bc6-88c3867d307b"
   },
   "outputs": [
    {
     "name": "stdout",
     "output_type": "stream",
     "text": [
      "Starting portfolio value: 8306.9296875\n",
      "Starting portfolio value: 8060.107421875\n"
     ]
    },
    {
     "name": "stderr",
     "output_type": "stream",
     "text": [
      "/usr/local/lib/python3.6/dist-packages/ipykernel_launcher.py:19: UserWarning: To copy construct from a tensor, it is recommended to use sourceTensor.clone().detach() or sourceTensor.clone().detach().requires_grad_(True), rather than torch.tensor(sourceTensor).\n"
     ]
    },
    {
     "name": "stdout",
     "output_type": "stream",
     "text": [
      "Starting portfolio value: 7153.2041015625\n",
      "Starting portfolio value: 7127.91796875\n",
      "Starting portfolio value: 8283.2138671875\n",
      "Starting portfolio value: 7845.923828125\n",
      "Starting portfolio value: 7804.208984375\n",
      "Starting portfolio value: 7546.134765625\n",
      "Starting portfolio value: 7750.60498046875\n",
      "Starting portfolio value: 7743.353515625\n",
      "Starting portfolio value: 9163.185546875\n",
      "Starting portfolio value: 7612.7822265625\n",
      "done, have 98.0 aapl and 99.0 msft and 104.59992980957031 cash\n",
      "Finished portfolio value 9534.38671875\n"
     ]
    }
   ],
   "source": [
    "env = TradingEnvironment(max_stride=4, series_length=250, starting_cash_mean=1000, randomize_cash_std=100, starting_shares_mean=100, randomize_shares_std=10)\n",
    "env.reset()\n",
    "complete_game = False\n",
    "while not complete_game:\n",
    "    bought_apl_at = []\n",
    "    bought_msf_at = []\n",
    "    sold_apl_at = []\n",
    "    sold_msf_at = []\n",
    "    bought_apl_at_orig = []\n",
    "    bought_msf_at_orig = []\n",
    "    sold_apl_at_orig = []\n",
    "    sold_msf_at_orig = []\n",
    "    nothing_at = []\n",
    "    ba_action_times = []\n",
    "    bm_action_times = []\n",
    "    sa_action_times = []\n",
    "    sm_action_times = []\n",
    "    n_action_times = []\n",
    "    starting_val = env.starting_portfolio_value\n",
    "    print(\"Starting portfolio value: {}\".format(starting_val))\n",
    "    for i in range(0,env.series_length + 1):\n",
    "        action = model.act(env.state)\n",
    "        if action == 0:\n",
    "            bought_apl_at.append(apl_open[env.cur_timestep])\n",
    "            bought_apl_at_orig.append(apl_open_orig[env.cur_timestep])\n",
    "            ba_action_times.append(env.cur_timestep)\n",
    "        if action == 1:\n",
    "            sold_apl_at.append(apl_close[env.cur_timestep])\n",
    "            sold_apl_at_orig.append(apl_close_orig[env.cur_timestep])\n",
    "            sa_action_times.append(env.cur_timestep)\n",
    "        if action == 2:\n",
    "            nothing_at.append(35)\n",
    "            n_action_times.append(env.cur_timestep)\n",
    "        if action == 3:\n",
    "            bought_msf_at.append(msf_open[env.cur_timestep])\n",
    "            bought_msf_at_orig.append(msf_open_orig[env.cur_timestep])\n",
    "            bm_action_times.append(env.cur_timestep)\n",
    "        if action == 4:\n",
    "            sold_msf_at.append(msf_close[env.cur_timestep])\n",
    "            sold_msf_at_orig.append(msf_close_orig[env.cur_timestep])\n",
    "            sm_action_times.append(env.cur_timestep)\n",
    "        next_state, reward, done, msg = env.step(action)\n",
    "        if msg[\"msg\"] == 'bankrupted self':\n",
    "            env.reset()\n",
    "            break\n",
    "        if msg[\"msg\"] == 'sold more than have':\n",
    "            env.reset()\n",
    "            break\n",
    "        if msg[\"msg\"] == \"done\":\n",
    "            print(\"{}, have {} aapl and {} msft and {} cash\".format(msg[\"msg\"], next_state[0], next_state[1], next_state[2]))\n",
    "            val = env.portfolio_value()\n",
    "            print(\"Finished portfolio value {}\".format(val))\n",
    "            if val > starting_val * 1.1: complete_game = True\n",
    "            env.reset()\n",
    "            break"
   ]
  },
  {
   "cell_type": "code",
   "execution_count": 0,
   "metadata": {
    "colab": {
     "base_uri": "https://localhost:8080/",
     "height": 337
    },
    "colab_type": "code",
    "id": "hA4zqKVF2op6",
    "outputId": "fb0e20ee-0d11-47a9-f403-139f08276179"
   },
   "outputs": [
    {
     "data": {
      "text/plain": [
       "[<matplotlib.lines.Line2D at 0x7f2c6b3ffb00>]"
      ]
     },
     "execution_count": 28,
     "metadata": {
      "tags": []
     },
     "output_type": "execute_result"
    },
    {
     "data": {
      "image/png": "[encoded data removed]",
      "text/plain": [
       "<Figure size 1008x360 with 2 Axes>"
      ]
     },
     "metadata": {
      "needs_background": "light",
      "tags": []
     },
     "output_type": "display_data"
    }
   ],
   "source": [
    "plt.figure(1, figsize=(14,5))\n",
    "apl = plt.subplot(121)\n",
    "msf = plt.subplot(122)\n",
    "apl.plot(range(0, len(apl_open)), apl_open)\n",
    "msf.plot(range(0, len(msf_open)), msf_open)\n",
    "apl.plot(ba_action_times, bought_apl_at, \"ro\")\n",
    "apl.plot(sa_action_times, sold_apl_at, \"go\")\n",
    "apl.plot(n_action_times, nothing_at, \"yx\")\n",
    "msf.plot(n_action_times, nothing_at, \"yx\")\n",
    "msf.plot(bm_action_times, bought_msf_at, \"ro\")\n",
    "msf.plot(sm_action_times, sold_msf_at, \"go\")"
   ]
  },
  {
   "cell_type": "code",
   "execution_count": 0,
   "metadata": {
    "colab": {
     "base_uri": "https://localhost:8080/",
     "height": 341
    },
    "colab_type": "code",
    "id": "bVd_jK3D2op9",
    "outputId": "e3b417d7-eae6-4f84-d415-b98f1ffcac51"
   },
   "outputs": [
    {
     "data": {
      "text/plain": [
       "[<matplotlib.lines.Line2D at 0x7f2c6b2cecc0>]"
      ]
     },
     "execution_count": 29,
     "metadata": {
      "tags": []
     },
     "output_type": "execute_result"
    },
    {
     "data": {
      "image/png": "[encoded data removed]",
      "text/plain": [
       "<Figure size 1008x360 with 2 Axes>"
      ]
     },
     "metadata": {
      "needs_background": "light",
      "tags": []
     },
     "output_type": "display_data"
    }
   ],
   "source": [
    "plt.figure(1, figsize=(14,5))\n",
    "apl = plt.subplot(121)\n",
    "msf = plt.subplot(122)\n",
    "apl.plot(range(0, len(apl_open_orig)), apl_open_orig)\n",
    "msf.plot(range(0, len(msf_open_orig)), msf_open_orig)\n",
    "apl.plot(ba_action_times, bought_apl_at_orig, \"ro\")\n",
    "apl.plot(sa_action_times, sold_apl_at_orig, \"go\")\n",
    "apl.plot(n_action_times, nothing_at, \"yx\")\n",
    "msf.plot(n_action_times, nothing_at, \"yx\")\n",
    "msf.plot(bm_action_times, bought_msf_at_orig, \"ro\")\n",
    "msf.plot(sm_action_times, sold_msf_at_orig, \"go\")"
   ]
  },
  {
   "cell_type": "code",
   "execution_count": 0,
   "metadata": {
    "colab": {
     "base_uri": "https://localhost:8080/",
     "height": 168
    },
    "colab_type": "code",
    "id": "oZ4wLKrrDTVg",
    "outputId": "637fd39e-284b-4b24-e99d-d825ac0670d6"
   },
   "outputs": [
    {
     "ename": "NameError",
     "evalue": "ignored",
     "output_type": "error",
     "traceback": [
      "\u001b[0;31m---------------------------------------------------------------------------\u001b[0m",
      "\u001b[0;31mNameError\u001b[0m                                 Traceback (most recent call last)",
      "\u001b[0;32m<ipython-input-31-eaeab0a31b4f>\u001b[0m in \u001b[0;36m<module>\u001b[0;34m()\u001b[0m\n\u001b[0;32m----> 1\u001b[0;31m \u001b[0mprint\u001b[0m\u001b[0;34m(\u001b[0m\u001b[0mpolicy_losses\u001b[0m\u001b[0;34m)\u001b[0m\u001b[0;34m\u001b[0m\u001b[0;34m\u001b[0m\u001b[0m\n\u001b[0m",
      "\u001b[0;31mNameError\u001b[0m: name 'policy_losses' is not defined"
     ]
    }
   ],
   "source": [
    "print(policy_losses)"
   ]
  },
  {
   "cell_type": "code",
   "execution_count": 0,
   "metadata": {
    "colab": {},
    "colab_type": "code",
    "id": "WAL-YpjwzZJe"
   },
   "outputs": [],
   "source": []
  }
 ],
 "metadata": {
  "accelerator": "GPU",
  "colab": {
   "collapsed_sections": [],
   "name": "Finance_final.ipynb",
   "provenance": []
  },
  "kernelspec": {
   "display_name": "Python 3",
   "language": "python",
   "name": "python3"
  },
  "language_info": {
   "codemirror_mode": {
    "name": "ipython",
    "version": 3
   },
   "file_extension": ".py",
   "mimetype": "text/x-python",
   "name": "python",
   "nbconvert_exporter": "python",
   "pygments_lexer": "ipython3",
   "version": "3.7.4"
  }
 },
 "nbformat": 4,
 "nbformat_minor": 1
}
